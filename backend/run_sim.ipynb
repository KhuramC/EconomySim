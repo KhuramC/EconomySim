{
 "cells": [
  {
   "cell_type": "markdown",
   "id": "ffc8377e",
   "metadata": {},
   "source": [
    "# Jupyter Notebook Testing\n",
    "\n",
    "Jupyter Notebooks use cells that can easily be re ran and is very convenient for testing things out.\n",
    "It's important to note that to be able to run these cells correctly, the dependencies need to be properly installed.\n",
    "This means that the interpreter being used must point to the Python the one that is in your [venv](./.venv) created by poetry for this project.\n",
    "\n",
    "**Note**: if you make changes to the source code, you will need to press `Restart` above to restart the kernel to ensure the changes occur here.\n",
    "![image](../pictures/restartJupyterKernel.png)"
   ]
  },
  {
   "cell_type": "code",
   "execution_count": 1,
   "id": "06fffbf8",
   "metadata": {},
   "outputs": [],
   "source": [
    "import logging\n",
    "logging.basicConfig(level=logging.INFO)\n",
    "from backend.engine.types.IndustryType import IndustryType\n",
    "\n",
    "\n",
    "tax_rates = {\n",
    "    \"corporate_income_tax\": {itype.value: 0.0 for itype in IndustryType},\n",
    "    \"personal_income_tax\": 0.0,\n",
    "    \"sales_tax\": {itype.value: 0.0 for itype in IndustryType},\n",
    "    \"property_tax\": 0.0,\n",
    "    \"tariffs\": {itype.value: 0.0 for itype in IndustryType},\n",
    "}"
   ]
  },
  {
   "cell_type": "code",
   "execution_count": null,
   "id": "4bb72194",
   "metadata": {},
   "outputs": [
    {
     "data": {
      "text/plain": [
       "<backend.engine.core.model.EconomyModel at 0x7550037bcc90>"
      ]
     },
     "execution_count": 2,
     "metadata": {},
     "output_type": "execute_result"
    }
   ],
   "source": [
    "from backend.engine.interface.controller import ModelController\n",
    "controller = ModelController()\n",
    "model_id = \"model1\"\n",
    "controller.create_model(model_id=model_id, city_template=None, num_people=100,tax_rates=tax_rates)"
   ]
  },
  {
   "cell_type": "code",
   "execution_count": 3,
   "id": "6b2f9b74",
   "metadata": {},
   "outputs": [
    {
     "name": "stderr",
     "output_type": "stream",
     "text": [
      "INFO:MESA.mesa.model:calling model.step for timestep 1 \n",
      "INFO:root:Determining price...NOT IMPLEMENTED\n",
      "INFO:root:Tariff rate is 0.0\n",
      "INFO:root:Determining price...NOT IMPLEMENTED\n",
      "INFO:root:Tariff rate is 0.0\n",
      "INFO:root:Determining price...NOT IMPLEMENTED\n",
      "INFO:root:Tariff rate is 0.0\n",
      "INFO:root:Determining price...NOT IMPLEMENTED\n",
      "INFO:root:Tariff rate is 0.0\n",
      "INFO:root:Determining price...NOT IMPLEMENTED\n",
      "INFO:root:Tariff rate is 0.0\n",
      "INFO:root:Determining price...NOT IMPLEMENTED\n",
      "INFO:root:Tariff rate is 0.0\n",
      "INFO:root:Determining price...NOT IMPLEMENTED\n",
      "INFO:root:Tariff rate is 0.0\n",
      "INFO:root:Determining price...NOT IMPLEMENTED\n",
      "INFO:root:Tariff rate is 0.0\n",
      "INFO:root:Determining price...NOT IMPLEMENTED\n",
      "INFO:root:Tariff rate is 0.0\n",
      "INFO:root:Determining price...NOT IMPLEMENTED\n",
      "INFO:root:Tariff rate is 0.0\n",
      "INFO:root:Producing goods...NOT IMPLEMENTED\n",
      "INFO:root:Producing goods...NOT IMPLEMENTED\n",
      "INFO:root:Producing goods...NOT IMPLEMENTED\n",
      "INFO:root:Producing goods...NOT IMPLEMENTED\n",
      "INFO:root:Producing goods...NOT IMPLEMENTED\n",
      "INFO:root:Producing goods...NOT IMPLEMENTED\n",
      "INFO:root:Producing goods...NOT IMPLEMENTED\n",
      "INFO:root:Changing employment...NOT IMPLEMENTED\n",
      "INFO:root:Changing employment...NOT IMPLEMENTED\n",
      "INFO:root:Changing employment...NOT IMPLEMENTED\n",
      "INFO:root:Changing employment...NOT IMPLEMENTED\n",
      "INFO:root:Changing employment...NOT IMPLEMENTED\n",
      "INFO:root:Changing employment...NOT IMPLEMENTED\n",
      "INFO:root:Changing employment...NOT IMPLEMENTED\n"
     ]
    }
   ],
   "source": [
    "controller.step_model(model_id)"
   ]
  },
  {
   "cell_type": "code",
   "execution_count": 33,
   "id": "7cbdb83e",
   "metadata": {},
   "outputs": [
    {
     "name": "stdout",
     "output_type": "stream",
     "text": [
      "   Week  Unemployment  GDP  IncomePerCapita  MedianIncome  HooverIndex  \\\n",
      "0     0           1.0    0         50.60199     50.119398            0   \n",
      "1     1           1.0    0         51.60199     51.119398            0   \n",
      "\n",
      "   LorenzCurve  \n",
      "0            0  \n",
      "1            0  \n"
     ]
    }
   ],
   "source": [
    "model = controller.get_model(model_id)\n",
    "\n",
    "indicators = model.datacollector.get_model_vars_dataframe()\n",
    "\n",
    "print(indicators)"
   ]
  }
 ],
 "metadata": {
  "kernelspec": {
   "display_name": "backend-py3.11",
   "language": "python",
   "name": "python3"
  },
  "language_info": {
   "codemirror_mode": {
    "name": "ipython",
    "version": 3
   },
   "file_extension": ".py",
   "mimetype": "text/x-python",
   "name": "python",
   "nbconvert_exporter": "python",
   "pygments_lexer": "ipython3",
   "version": "3.11.13"
  }
 },
 "nbformat": 4,
 "nbformat_minor": 5
}
