{
 "cells": [
  {
   "cell_type": "markdown",
   "id": "ffc8377e",
   "metadata": {},
   "source": [
    "# Jupyter Notebook Testing\n",
    "\n",
    "Jupyter Notebooks use cells that can easily be re ran and is very convenient for testing things out.\n",
    "It's important to note that to be able to run these cells correctly, the dependencies need to be properly installed.\n",
    "This means that the interpreter being used must point to the Python the one that is in your [venv](./.venv) created by poetry for this project."
   ]
  },
  {
   "cell_type": "code",
   "execution_count": 1,
   "id": "ca96e867",
   "metadata": {},
   "outputs": [
    {
     "name": "stdout",
     "output_type": "stream",
     "text": [
      "Industry Type: groceries, Starting Price: 10.0\n",
      "Industry Type: utilities, Starting Price: 10.0\n",
      "Industry Type: automobiles, Starting Price: 10.0\n",
      "Industry Type: housing, Starting Price: 10.0\n",
      "Industry Type: household_goods, Starting Price: 10.0\n",
      "Industry Type: entertainment, Starting Price: 10.0\n",
      "Industry Type: luxury, Starting Price: 10.0\n",
      "Income: 101\n",
      "Income: 101\n",
      "Income: 101\n",
      "Week 1 completed\n",
      "Industry Type: groceries, Starting Price: 10.0\n",
      "Industry Type: utilities, Starting Price: 10.0\n",
      "Industry Type: automobiles, Starting Price: 10.0\n",
      "Industry Type: housing, Starting Price: 10.0\n",
      "Industry Type: household_goods, Starting Price: 10.0\n",
      "Industry Type: entertainment, Starting Price: 10.0\n",
      "Industry Type: luxury, Starting Price: 10.0\n",
      "Income: 102\n",
      "Income: 102\n",
      "Income: 102\n",
      "Week 2 completed\n",
      "Industry Type: groceries, Starting Price: 10.0\n",
      "Industry Type: utilities, Starting Price: 10.0\n",
      "Industry Type: automobiles, Starting Price: 10.0\n",
      "Industry Type: housing, Starting Price: 10.0\n",
      "Industry Type: household_goods, Starting Price: 10.0\n",
      "Industry Type: entertainment, Starting Price: 10.0\n",
      "Industry Type: luxury, Starting Price: 10.0\n",
      "Income: 103\n",
      "Income: 103\n",
      "Income: 103\n",
      "Week 3 completed\n",
      "Industry Type: groceries, Starting Price: 10.0\n",
      "Industry Type: utilities, Starting Price: 10.0\n",
      "Industry Type: automobiles, Starting Price: 10.0\n",
      "Industry Type: housing, Starting Price: 10.0\n",
      "Industry Type: household_goods, Starting Price: 10.0\n",
      "Industry Type: entertainment, Starting Price: 10.0\n",
      "Industry Type: luxury, Starting Price: 10.0\n",
      "Income: 104\n",
      "Income: 104\n",
      "Income: 104\n",
      "Week 4 completed\n",
      "Industry Type: groceries, Starting Price: 10.0\n",
      "Industry Type: utilities, Starting Price: 10.0\n",
      "Industry Type: automobiles, Starting Price: 10.0\n",
      "Industry Type: housing, Starting Price: 10.0\n",
      "Industry Type: household_goods, Starting Price: 10.0\n",
      "Industry Type: entertainment, Starting Price: 10.0\n",
      "Industry Type: luxury, Starting Price: 10.0\n",
      "Income: 105\n",
      "Income: 105\n",
      "Income: 105\n",
      "Week 5 completed\n"
     ]
    }
   ],
   "source": [
    "from backend.engine.core.model import EconomyModel\n",
    "model = EconomyModel(num_people=3)\n",
    "for _ in range(5):  # run 5 weeks\n",
    "    model.step()\n",
    "    print(f\"Week {model.week} completed\")"
   ]
  }
 ],
 "metadata": {
  "kernelspec": {
   "display_name": "backend-py3.11",
   "language": "python",
   "name": "python3"
  },
  "language_info": {
   "codemirror_mode": {
    "name": "ipython",
    "version": 3
   },
   "file_extension": ".py",
   "mimetype": "text/x-python",
   "name": "python",
   "nbconvert_exporter": "python",
   "pygments_lexer": "ipython3",
   "version": "3.11.13"
  }
 },
 "nbformat": 4,
 "nbformat_minor": 5
}
