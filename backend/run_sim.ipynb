{
 "cells": [
  {
   "cell_type": "markdown",
   "id": "ffc8377e",
   "metadata": {},
   "source": [
    "# Jupyter Notebook Testing\n",
    "\n",
    "Jupyter Notebooks use cells that can easily be re ran and is very convenient for testing things out.\n",
    "It's important to note that to be able to run these cells correctly, the dependencies need to be properly installed.\n",
    "This means that the interpreter being used must point to the Python the one that is in your [venv](./.venv) created by poetry for this project.\n",
    "\n",
    "**Note**: if you make changes to the source code, you will need to press `Restart` above to restart the kernel to ensure the changes occur here.\n",
    "![image](../pictures/restartJupyterKernel.png)"
   ]
  },
  {
   "cell_type": "code",
   "execution_count": 1,
   "id": "06fffbf8",
   "metadata": {},
   "outputs": [],
   "source": [
    "import logging\n",
    "\n",
    "logging.basicConfig(level=logging.INFO)\n",
    "from engine.types.industry_type import IndustryType\n",
    "from engine.types.demographic import Demographic\n",
    "\n",
    "\n",
    "policies = {\n",
    "    \"corporate_income_tax\": {itype.value: 0.0 for itype in IndustryType},\n",
    "    \"personal_income_tax\": 0.0,\n",
    "    \"sales_tax\": {itype.value: 0.0 for itype in IndustryType},\n",
    "    \"property_tax\": 0.0,\n",
    "    \"tariffs\": {itype.value: 0.0 for itype in IndustryType},\n",
    "    \"subsidies\": {itype.value: 0.0 for itype in IndustryType},\n",
    "    \"minimum_wage\": 0.0,\n",
    "}\n",
    "\n",
    "demographics = {\n",
    "    demo: {\n",
    "        \"income\": {\"mean\": 300 + (i * 500), \"sd\": 10 + (i * 100)},\n",
    "        \"proportion\": 1 / len(Demographic),\n",
    "        \"unemployment_rate\": 0.1 - (i * 0.02),\n",
    "        \"spending_behavior\": {\n",
    "            itype.value: 1 / len(IndustryType) for itype in IndustryType\n",
    "        },\n",
    "        \"current_money\": {\"mean\": 500 + (i * 2000), \"sd\": 100},\n",
    "    }\n",
    "    for i, demo in enumerate(Demographic)\n",
    "}"
   ]
  },
  {
   "cell_type": "code",
   "execution_count": 2,
   "id": "4bb72194",
   "metadata": {},
   "outputs": [
    {
     "name": "stdout",
     "output_type": "stream",
     "text": [
      "Incomes for lowerclass: [304.81963088 301.98240608 302.61496102 303.74095875 303.33275802\n",
      " 299.75479647 298.28939663 309.23887583 304.07917532 291.80694979\n",
      " 313.28921598 312.3017363  299.29845607 318.25307829 308.29501422\n",
      " 297.50081467 284.38592748 287.95288403 311.8068449  295.46165041\n",
      " 310.79026779 299.35481081 295.10117933 295.79989017 306.08726809\n",
      " 296.19687853 311.92576013 288.7979997  299.91007133 301.5156026\n",
      " 298.56198424 292.93437657 300.98166478]\n",
      "Incomes for middleclass: [ 711.91239428  887.35449471  693.73322123  753.91443792  888.88955294\n",
      " 1109.9755459  1008.05693509  929.77950765  726.29604813  707.8472514\n",
      "  776.28623068  726.20575605  942.28653237  754.96212263  731.17908642\n",
      "  801.59445781  703.56664627  739.69092865  815.47984336  918.17050111\n",
      "  698.29841622  723.01266004  764.06194633  732.55920249  822.63957015\n",
      " 1037.63817787  830.50237832  766.92952642  773.40751184  566.79689589\n",
      "  537.53533076  924.66216434  529.59337377]\n",
      "Incomes for upperclass: [1296.32061612 1450.91117122 1077.2065992  1118.37846624 1192.81968794\n",
      " 1146.29108193 1405.45984343 1166.72903589 1392.72105573 1487.50906244\n",
      " 1570.84023055 1355.84842682 1653.9740379  1383.01367925 1231.94339131\n",
      " 1342.69808441 1199.07999474 1122.27134857 1052.80346388 1270.98167436\n",
      " 1317.59868434 1376.38496848 1195.3984808  1382.07343395 1461.13149925\n",
      " 1352.22048855 1370.13463627 1097.3023719   891.29401136 1322.52688856\n",
      "  929.70046439 1196.8829924  1388.9671673 ]\n"
     ]
    }
   ],
   "source": [
    "from engine.interface.controller import ModelController\n",
    "controller = ModelController()\n",
    "model_id = controller.create_model(num_people=100,demographics=demographics, starting_policies=policies,inflation_rate=0.001)"
   ]
  },
  {
   "cell_type": "code",
   "execution_count": 3,
   "id": "6b2f9b74",
   "metadata": {},
   "outputs": [
    {
     "name": "stderr",
     "output_type": "stream",
     "text": [
      "INFO:MESA.mesa.model:calling model.step for timestep 1 \n",
      "INFO:root:Determining price...NOT IMPLEMENTED\n",
      "INFO:root:Tariff rate is 0.0\n",
      "INFO:root:Determining price...NOT IMPLEMENTED\n",
      "INFO:root:Tariff rate is 0.0\n",
      "INFO:root:Determining price...NOT IMPLEMENTED\n",
      "INFO:root:Tariff rate is 0.0\n",
      "INFO:root:Determining price...NOT IMPLEMENTED\n",
      "INFO:root:Tariff rate is 0.0\n",
      "INFO:root:Determining price...NOT IMPLEMENTED\n",
      "INFO:root:Tariff rate is 0.0\n",
      "INFO:root:Determining price...NOT IMPLEMENTED\n",
      "INFO:root:Tariff rate is 0.0\n",
      "INFO:root:Determining price...NOT IMPLEMENTED\n",
      "INFO:root:Tariff rate is 0.0\n",
      "INFO:root:Determining price...NOT IMPLEMENTED\n",
      "INFO:root:Tariff rate is 0.0\n",
      "INFO:root:Determining price...NOT IMPLEMENTED\n",
      "INFO:root:Tariff rate is 0.0\n",
      "INFO:root:Determining price...NOT IMPLEMENTED\n",
      "INFO:root:Tariff rate is 0.0\n",
      "INFO:root:Determining price...NOT IMPLEMENTED\n",
      "INFO:root:Tariff rate is 0.0\n",
      "INFO:root:Determining price...NOT IMPLEMENTED\n",
      "INFO:root:Tariff rate is 0.0\n",
      "INFO:root:Producing goods...NOT IMPLEMENTED\n",
      "INFO:root:Producing goods...NOT IMPLEMENTED\n",
      "INFO:root:Producing goods...NOT IMPLEMENTED\n",
      "INFO:root:Producing goods...NOT IMPLEMENTED\n",
      "INFO:root:Producing goods...NOT IMPLEMENTED\n",
      "INFO:root:Producing goods...NOT IMPLEMENTED\n",
      "INFO:root:Producing goods...NOT IMPLEMENTED\n",
      "INFO:root:Changing employment...NOT IMPLEMENTED\n",
      "INFO:root:Changing employment...NOT IMPLEMENTED\n",
      "INFO:root:Changing employment...NOT IMPLEMENTED\n",
      "INFO:root:Changing employment...NOT IMPLEMENTED\n",
      "INFO:root:Changing employment...NOT IMPLEMENTED\n",
      "INFO:root:Changing employment...NOT IMPLEMENTED\n",
      "INFO:root:Changing employment...NOT IMPLEMENTED\n"
     ]
    }
   ],
   "source": [
    "controller.step_model(model_id,time=1)"
   ]
  },
  {
   "cell_type": "code",
   "execution_count": 4,
   "id": "7cbdb83e",
   "metadata": {},
   "outputs": [
    {
     "name": "stdout",
     "output_type": "stream",
     "text": [
      "   Week  Unemployment  GDP  IncomePerCapita  MedianIncome  HooverIndex  \\\n",
      "0     1           1.0    0       801.000001    801.000028            0   \n",
      "\n",
      "   LorenzCurve  \n",
      "0            0  \n"
     ]
    }
   ],
   "source": [
    "indicators = controller.get_indicators(model_id, start_time=1, end_time=0)\n",
    "print(indicators)"
   ]
  }
 ],
 "metadata": {
  "kernelspec": {
   "display_name": "backend-py3.11",
   "language": "python",
   "name": "python3"
  },
  "language_info": {
   "codemirror_mode": {
    "name": "ipython",
    "version": 3
   },
   "file_extension": ".py",
   "mimetype": "text/x-python",
   "name": "python",
   "nbconvert_exporter": "python",
   "pygments_lexer": "ipython3",
   "version": "3.11.14"
  }
 },
 "nbformat": 4,
 "nbformat_minor": 5
}
