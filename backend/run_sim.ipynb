{
 "cells": [
  {
   "cell_type": "markdown",
   "id": "ffc8377e",
   "metadata": {},
   "source": [
    "# Jupyter Notebook Testing\n",
    "\n",
    "Jupyter Notebooks use cells that can easily be re ran and is very convenient for testing things out.\n",
    "It's important to note that to be able to run these cells correctly, the dependencies need to be properly installed.\n",
    "This means that the interpreter being used must point to the Python the one that is in your [venv](./.venv) created by poetry for this project.\n",
    "\n",
    "**Note**: if you make changes to the source code, you will need to press `Restart` above to restart the kernel to ensure the changes occur here.\n",
    "![image](../pictures/restartJupyterKernel.png)"
   ]
  },
  {
   "cell_type": "code",
   "execution_count": 1,
   "id": "06fffbf8",
   "metadata": {},
   "outputs": [],
   "source": [
    "import logging\n",
    "\n",
    "logging.basicConfig(level=logging.INFO)\n",
    "from engine.types.industry_type import IndustryType\n",
    "from engine.types.demographic import Demographic\n",
    "\n",
    "\n",
    "policies = {\n",
    "    \"corporate_income_tax\": {itype.value: 0.0 for itype in IndustryType},\n",
    "    \"personal_income_tax\": {demo.value: 3 for demo in Demographic},\n",
    "    \"sales_tax\": {itype.value: 0.0 for itype in IndustryType},\n",
    "    \"property_tax\": 0.0,\n",
    "    \"tariffs\": {itype.value: 0.0 for itype in IndustryType},\n",
    "    \"subsidies\": {itype.value: 0.0 for itype in IndustryType},\n",
    "    \"rent_cap\": 0.0,\n",
    "    \"minimum_wage\": 0.0,\n",
    "}\n",
    "\n",
    "industries = {\n",
    "    itype: {\n",
    "        \"price\": 10.0 + i * 5.0,\n",
    "        \"inventory\": 1000 + i * 500,\n",
    "        \"money\": 50000 + i * 10000,\n",
    "        \"offered_wage\": 15.0 + i * 2.5,\n",
    "    }\n",
    "    for i, itype in enumerate(IndustryType)\n",
    "}\n",
    "\n",
    "demographics = {\n",
    "    demo: {\n",
    "        \"income\": {\"mean\": 300 + (i * 500), \"sd\": 10 + (i * 100)},\n",
    "        \"proportion\": 1 / len(Demographic),\n",
    "        \"unemployment_rate\": 0.1 - (i * 0.02),\n",
    "        \"spending_behavior\": {\n",
    "            itype.value: 1 / len(IndustryType) for itype in IndustryType\n",
    "        },\n",
    "        \"current_money\": {\"mean\": 500 + (i * 2000), \"sd\": 100},\n",
    "    }\n",
    "    for i, demo in enumerate(Demographic)\n",
    "}"
   ]
  },
  {
   "cell_type": "code",
   "execution_count": 2,
   "id": "4bb72194",
   "metadata": {},
   "outputs": [],
   "source": [
    "from engine.interface.controller import ModelController\n",
    "controller = ModelController()\n",
    "model_id = controller.create_model(max_simulation_length=100, num_people=100,demographics=demographics, industries=industries, starting_policies=policies,inflation_rate=0.001)"
   ]
  },
  {
   "cell_type": "code",
   "execution_count": 3,
   "id": "6b2f9b74",
   "metadata": {},
   "outputs": [
    {
     "name": "stderr",
     "output_type": "stream",
     "text": [
      "INFO:MESA.mesa.model:calling model.step for timestep 1 \n",
      "INFO:root:Determining price...NOT IMPLEMENTED\n",
      "INFO:root:Tariff rate is 0.0\n",
      "INFO:root:Determining price...NOT IMPLEMENTED\n",
      "INFO:root:Tariff rate is 0.0\n",
      "INFO:root:Determining price...NOT IMPLEMENTED\n",
      "INFO:root:Tariff rate is 0.0\n",
      "INFO:root:Determining price...NOT IMPLEMENTED\n",
      "INFO:root:Tariff rate is 0.0\n",
      "INFO:root:Determining price...NOT IMPLEMENTED\n",
      "INFO:root:Tariff rate is 0.0\n",
      "INFO:root:Determining price...NOT IMPLEMENTED\n",
      "INFO:root:Tariff rate is 0.0\n",
      "INFO:root:Determining price...NOT IMPLEMENTED\n",
      "INFO:root:Tariff rate is 0.0\n",
      "INFO:root:Determining price...NOT IMPLEMENTED\n",
      "INFO:root:Tariff rate is 0.0\n",
      "INFO:root:Determining price...NOT IMPLEMENTED\n",
      "INFO:root:Tariff rate is 0.0\n",
      "INFO:root:Determining price...NOT IMPLEMENTED\n",
      "INFO:root:Tariff rate is 0.0\n",
      "INFO:root:Determining price...NOT IMPLEMENTED\n",
      "INFO:root:Tariff rate is 0.0\n",
      "INFO:root:Producing goods...NOT IMPLEMENTED\n",
      "INFO:root:Producing goods...NOT IMPLEMENTED\n",
      "INFO:root:Producing goods...NOT IMPLEMENTED\n",
      "INFO:root:Producing goods...NOT IMPLEMENTED\n",
      "INFO:root:Producing goods...NOT IMPLEMENTED\n",
      "INFO:root:Producing goods...NOT IMPLEMENTED\n",
      "INFO:root:Producing goods...NOT IMPLEMENTED\n",
      "INFO:root:Changing employment...NOT IMPLEMENTED\n",
      "INFO:root:Changing employment...NOT IMPLEMENTED\n",
      "INFO:root:Changing employment...NOT IMPLEMENTED\n",
      "INFO:root:Changing employment...NOT IMPLEMENTED\n",
      "INFO:root:Changing employment...NOT IMPLEMENTED\n",
      "INFO:root:Changing employment...NOT IMPLEMENTED\n",
      "INFO:root:Changing employment...NOT IMPLEMENTED\n"
     ]
    }
   ],
   "source": [
    "controller.step_model(model_id,time=1)"
   ]
  },
  {
   "cell_type": "code",
   "execution_count": 4,
   "id": "7cbdb83e",
   "metadata": {},
   "outputs": [
    {
     "name": "stdout",
     "output_type": "stream",
     "text": [
      "   week  unemployment       gdp  income per capita  median income  \\\n",
      "0     1           1.0  6.112791         798.744889     810.045148   \n",
      "\n",
      "   hoover index  lorenz curve  \n",
      "0             0             0  \n"
     ]
    }
   ],
   "source": [
    "indicators = controller.get_indicators(model_id, start_time=1, end_time=0)\n",
    "print(indicators)"
   ]
  }
 ],
 "metadata": {
  "kernelspec": {
   "display_name": "backend-py3.11",
   "language": "python",
   "name": "python3"
  },
  "language_info": {
   "codemirror_mode": {
    "name": "ipython",
    "version": 3
   },
   "file_extension": ".py",
   "mimetype": "text/x-python",
   "name": "python",
   "nbconvert_exporter": "python",
   "pygments_lexer": "ipython3",
   "version": "3.11.14"
  }
 },
 "nbformat": 4,
 "nbformat_minor": 5
}
